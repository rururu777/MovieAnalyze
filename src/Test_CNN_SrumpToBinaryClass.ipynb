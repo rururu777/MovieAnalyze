{
 "cells": [
  {
   "cell_type": "code",
   "execution_count": 1,
   "metadata": {},
   "outputs": [],
   "source": [
    "'''正解データ（スランプ値が20.0）の動画はIOHD0017とする'''\n",
    "import Function\n",
    "\n",
    "sec_ranges = [(48, 53), (30, 35), (45, 50), (40, 45)]\n",
    "Function.ExtractFramesFromMultipleVideos(sec_ranges)"
   ]
  },
  {
   "cell_type": "code",
   "execution_count": 2,
   "metadata": {},
   "outputs": [
    {
     "name": "stderr",
     "output_type": "stream",
     "text": [
      "2024-10-08 11:43:35.130655: E external/local_xla/xla/stream_executor/cuda/cuda_fft.cc:485] Unable to register cuFFT factory: Attempting to register factory for plugin cuFFT when one has already been registered\n",
      "2024-10-08 11:43:35.234568: E external/local_xla/xla/stream_executor/cuda/cuda_dnn.cc:8454] Unable to register cuDNN factory: Attempting to register factory for plugin cuDNN when one has already been registered\n",
      "2024-10-08 11:43:35.262055: E external/local_xla/xla/stream_executor/cuda/cuda_blas.cc:1452] Unable to register cuBLAS factory: Attempting to register factory for plugin cuBLAS when one has already been registered\n",
      "2024-10-08 11:43:35.476834: I tensorflow/core/platform/cpu_feature_guard.cc:210] This TensorFlow binary is optimized to use available CPU instructions in performance-critical operations.\n",
      "To enable the following instructions: AVX2 FMA, in other operations, rebuild TensorFlow with the appropriate compiler flags.\n",
      "2024-10-08 11:43:37.033640: W tensorflow/compiler/tf2tensorrt/utils/py_utils.cc:38] TF-TRT Warning: Could not find TensorRT\n"
     ]
    },
    {
     "name": "stdout",
     "output_type": "stream",
     "text": [
      "(1198, 256, 256, 3)\n",
      "1198\n"
     ]
    }
   ],
   "source": [
    "import os\n",
    "import numpy as np\n",
    "from tensorflow.keras.preprocessing.image import load_img, img_to_array\n",
    "import matplotlib.pyplot as plt\n",
    "\n",
    "try:\n",
    "    # 画像の数字データを格納する配列\n",
    "    x_data = []\n",
    "    # 正解ラベル\n",
    "    y_data = []\n",
    "    # 入力データの形状\n",
    "    input_shape = [256, 256, 3]\n",
    "    # 学習データ画像が保存されているディレクトリパス\n",
    "    image_dir = '../data/Movie'\n",
    "\n",
    "    # \"IOHD\"で始まるディレクトリを探索\n",
    "    for sub_dir in sorted(os.listdir(image_dir)):\n",
    "        sub_dir_path = os.path.join(image_dir, sub_dir)\n",
    "        if os.path.isdir(sub_dir_path) and sub_dir.startswith(\"IOHD\"):\n",
    "            # 各サブディレクトリ内のjpgファイルを読み込む\n",
    "            for filename in sorted(os.listdir(sub_dir_path)):\n",
    "                if filename.endswith(\".jpg\"):\n",
    "                    img_path = os.path.join(sub_dir_path, filename)\n",
    "                    img = load_img(img_path, target_size=input_shape)\n",
    "                    img_array = img_to_array(img) / 255.0\n",
    "                    x_data.append(img_array)\n",
    "                    if sub_dir == \"IOHD0017\":\n",
    "                        y_data.append(1)\n",
    "                    else:\n",
    "                        y_data.append(0)\n",
    "\n",
    "\n",
    "    # 正規化\n",
    "    x_data = np.array(x_data, dtype=\"float32\")\n",
    "    y_data = np.array(y_data, dtype=\"float32\")\n",
    "    \n",
    "    # 確認\n",
    "    print(x_data.shape)\n",
    "    print(len(y_data))\n",
    "\n",
    "except Exception as e:\n",
    "    print(f\"エラー発生：{e}\")"
   ]
  },
  {
   "cell_type": "code",
   "execution_count": 3,
   "metadata": {},
   "outputs": [],
   "source": [
    "from sklearn.model_selection import train_test_split\n",
    "\n",
    "# 学習データとテストデータ（モデルの評価に使用）に分割\n",
    "x_train, x_test, y_train, y_test = train_test_split(x_data, y_data, test_size=0.2, random_state=42)"
   ]
  },
  {
   "cell_type": "code",
   "execution_count": 4,
   "metadata": {},
   "outputs": [],
   "source": [
    "from tensorflow.keras.models import Sequential\n",
    "from tensorflow.keras.layers import  Dense, Dropout, Flatten\n",
    "from tensorflow.keras.layers import Conv2D, MaxPooling2D\n",
    "from tensorflow.keras import optimizers\n",
    "\n",
    "def make_convlayer(x_train):\n",
    "    model = Sequential()\n",
    "\n",
    "    # 第1層：畳み込み層1\n",
    "    # (バッチサイズ, 32, 3, 3) -> (バッチサイズ, 32, 32, 32)\n",
    "    model.add(\n",
    "        Conv2D(\n",
    "            filters=32,\n",
    "            kernel_size=(3,3),\n",
    "            input_shape=x_train[0].shape,\n",
    "            padding=\"same\",\n",
    "            activation=\"relu\"\n",
    "        ))\n",
    "    # 第2層：畳み込み層2\n",
    "    # (バッチサイズ, 32, 32, 32) -> (バッチサイズ, 32, 32, 32)\n",
    "    model.add(\n",
    "        Conv2D(\n",
    "            filters=32,\n",
    "            kernel_size=(3,3),\n",
    "            padding=\"same\",\n",
    "            activation=\"relu\"\n",
    "        ))\n",
    "    # 第3層：プーリング層1\n",
    "    # (バッチサイズ, 32, 32, 32) -> (バッチサイズ, 16, 16, 32)\n",
    "    model.add(MaxPooling2D(pool_size=(2,2)))\n",
    "    # ドロップアウト1\n",
    "    model.add(Dropout(0.5))\n",
    "    # 第4層：畳み込み層3\n",
    "    # (バッチサイズ, 16, 16, 32) -> (バッチサイズ, 16, 16, 64)\n",
    "    model.add(\n",
    "        Conv2D(\n",
    "            filters=64,\n",
    "            kernel_size=(3,3),\n",
    "            padding=\"same\",\n",
    "            activation=\"relu\"\n",
    "        ))\n",
    "    # 第5層：畳み込み層4\n",
    "    # (バッチサイズ, 16, 16, 64) -> (バッチサイズ, 16, 16, 64)\n",
    "    model.add(\n",
    "        Conv2D(\n",
    "            filters=64,\n",
    "            kernel_size=(3,3),\n",
    "            padding=\"same\",\n",
    "            activation=\"relu\"\n",
    "        ))\n",
    "    # 第6層：プーリング層2\n",
    "    # (バッチサイズ, 16, 16, 64) -> (バッチサイズ, 8, 8, 64)\n",
    "    model.add(MaxPooling2D(pool_size=(2,2)))\n",
    "    # ドロップアウト2\n",
    "    model.add(Dropout(0.5))\n",
    "    # Flatten：4階テンソルから2階テンソルに変換\n",
    "    # (バッチサイズ, 8, 8, 64) -> (バッチサイズ, 4096)\n",
    "    model.add(Flatten())\n",
    "    # 第7層：全結合層\n",
    "    # (バッチサイズ, 4096) -> (バッチサイズ, 512)\n",
    "    model.add(Dense(512,\n",
    "                    activation=\"relu\"))\n",
    "    # ドロップアウト3\n",
    "    model.add(Dropout(0.5))\n",
    "    # 第8層：出力層\n",
    "    # (バッチサイズ, 512) -> (バッチサイズ, 10)\n",
    "    model.add(Dense(1,\n",
    "                    activation=\"sigmoid\"))\n",
    "    \n",
    "    # Sequentialオブジェクトのコンパイル\n",
    "    model.compile(\n",
    "        loss=\"binary_crossentropy\",\n",
    "        optimizer=optimizers.Adam(0.001),\n",
    "        metrics=[\"accuracy\"]\n",
    "    )\n",
    "\n",
    "    return model"
   ]
  },
  {
   "cell_type": "code",
   "execution_count": 5,
   "metadata": {},
   "outputs": [
    {
     "name": "stderr",
     "output_type": "stream",
     "text": [
      "/home/ruka/anaconda3/envs/Test3/lib/python3.12/site-packages/keras/src/layers/convolutional/base_conv.py:107: UserWarning: Do not pass an `input_shape`/`input_dim` argument to a layer. When using Sequential models, prefer using an `Input(shape)` object as the first layer in the model instead.\n",
      "  super().__init__(activity_regularizer=activity_regularizer, **kwargs)\n",
      "2024-10-08 11:43:46.088757: W external/local_tsl/tsl/framework/cpu_allocator_impl.cc:83] Allocation of 536870912 exceeds 10% of free system memory.\n",
      "2024-10-08 11:43:46.372490: W external/local_tsl/tsl/framework/cpu_allocator_impl.cc:83] Allocation of 536870912 exceeds 10% of free system memory.\n",
      "2024-10-08 11:43:46.471032: W external/local_tsl/tsl/framework/cpu_allocator_impl.cc:83] Allocation of 536870912 exceeds 10% of free system memory.\n"
     ]
    },
    {
     "data": {
      "text/html": [
       "<pre style=\"white-space:pre;overflow-x:auto;line-height:normal;font-family:Menlo,'DejaVu Sans Mono',consolas,'Courier New',monospace\"><span style=\"font-weight: bold\">Model: \"sequential\"</span>\n",
       "</pre>\n"
      ],
      "text/plain": [
       "\u001b[1mModel: \"sequential\"\u001b[0m\n"
      ]
     },
     "metadata": {},
     "output_type": "display_data"
    },
    {
     "data": {
      "text/html": [
       "<pre style=\"white-space:pre;overflow-x:auto;line-height:normal;font-family:Menlo,'DejaVu Sans Mono',consolas,'Courier New',monospace\">┏━━━━━━━━━━━━━━━━━━━━━━━━━━━━━━━━━┳━━━━━━━━━━━━━━━━━━━━━━━━┳━━━━━━━━━━━━━━━┓\n",
       "┃<span style=\"font-weight: bold\"> Layer (type)                    </span>┃<span style=\"font-weight: bold\"> Output Shape           </span>┃<span style=\"font-weight: bold\">       Param # </span>┃\n",
       "┡━━━━━━━━━━━━━━━━━━━━━━━━━━━━━━━━━╇━━━━━━━━━━━━━━━━━━━━━━━━╇━━━━━━━━━━━━━━━┩\n",
       "│ conv2d (<span style=\"color: #0087ff; text-decoration-color: #0087ff\">Conv2D</span>)                 │ (<span style=\"color: #00d7ff; text-decoration-color: #00d7ff\">None</span>, <span style=\"color: #00af00; text-decoration-color: #00af00\">256</span>, <span style=\"color: #00af00; text-decoration-color: #00af00\">256</span>, <span style=\"color: #00af00; text-decoration-color: #00af00\">32</span>)   │           <span style=\"color: #00af00; text-decoration-color: #00af00\">896</span> │\n",
       "├─────────────────────────────────┼────────────────────────┼───────────────┤\n",
       "│ conv2d_1 (<span style=\"color: #0087ff; text-decoration-color: #0087ff\">Conv2D</span>)               │ (<span style=\"color: #00d7ff; text-decoration-color: #00d7ff\">None</span>, <span style=\"color: #00af00; text-decoration-color: #00af00\">256</span>, <span style=\"color: #00af00; text-decoration-color: #00af00\">256</span>, <span style=\"color: #00af00; text-decoration-color: #00af00\">32</span>)   │         <span style=\"color: #00af00; text-decoration-color: #00af00\">9,248</span> │\n",
       "├─────────────────────────────────┼────────────────────────┼───────────────┤\n",
       "│ max_pooling2d (<span style=\"color: #0087ff; text-decoration-color: #0087ff\">MaxPooling2D</span>)    │ (<span style=\"color: #00d7ff; text-decoration-color: #00d7ff\">None</span>, <span style=\"color: #00af00; text-decoration-color: #00af00\">128</span>, <span style=\"color: #00af00; text-decoration-color: #00af00\">128</span>, <span style=\"color: #00af00; text-decoration-color: #00af00\">32</span>)   │             <span style=\"color: #00af00; text-decoration-color: #00af00\">0</span> │\n",
       "├─────────────────────────────────┼────────────────────────┼───────────────┤\n",
       "│ dropout (<span style=\"color: #0087ff; text-decoration-color: #0087ff\">Dropout</span>)               │ (<span style=\"color: #00d7ff; text-decoration-color: #00d7ff\">None</span>, <span style=\"color: #00af00; text-decoration-color: #00af00\">128</span>, <span style=\"color: #00af00; text-decoration-color: #00af00\">128</span>, <span style=\"color: #00af00; text-decoration-color: #00af00\">32</span>)   │             <span style=\"color: #00af00; text-decoration-color: #00af00\">0</span> │\n",
       "├─────────────────────────────────┼────────────────────────┼───────────────┤\n",
       "│ conv2d_2 (<span style=\"color: #0087ff; text-decoration-color: #0087ff\">Conv2D</span>)               │ (<span style=\"color: #00d7ff; text-decoration-color: #00d7ff\">None</span>, <span style=\"color: #00af00; text-decoration-color: #00af00\">128</span>, <span style=\"color: #00af00; text-decoration-color: #00af00\">128</span>, <span style=\"color: #00af00; text-decoration-color: #00af00\">64</span>)   │        <span style=\"color: #00af00; text-decoration-color: #00af00\">18,496</span> │\n",
       "├─────────────────────────────────┼────────────────────────┼───────────────┤\n",
       "│ conv2d_3 (<span style=\"color: #0087ff; text-decoration-color: #0087ff\">Conv2D</span>)               │ (<span style=\"color: #00d7ff; text-decoration-color: #00d7ff\">None</span>, <span style=\"color: #00af00; text-decoration-color: #00af00\">128</span>, <span style=\"color: #00af00; text-decoration-color: #00af00\">128</span>, <span style=\"color: #00af00; text-decoration-color: #00af00\">64</span>)   │        <span style=\"color: #00af00; text-decoration-color: #00af00\">36,928</span> │\n",
       "├─────────────────────────────────┼────────────────────────┼───────────────┤\n",
       "│ max_pooling2d_1 (<span style=\"color: #0087ff; text-decoration-color: #0087ff\">MaxPooling2D</span>)  │ (<span style=\"color: #00d7ff; text-decoration-color: #00d7ff\">None</span>, <span style=\"color: #00af00; text-decoration-color: #00af00\">64</span>, <span style=\"color: #00af00; text-decoration-color: #00af00\">64</span>, <span style=\"color: #00af00; text-decoration-color: #00af00\">64</span>)     │             <span style=\"color: #00af00; text-decoration-color: #00af00\">0</span> │\n",
       "├─────────────────────────────────┼────────────────────────┼───────────────┤\n",
       "│ dropout_1 (<span style=\"color: #0087ff; text-decoration-color: #0087ff\">Dropout</span>)             │ (<span style=\"color: #00d7ff; text-decoration-color: #00d7ff\">None</span>, <span style=\"color: #00af00; text-decoration-color: #00af00\">64</span>, <span style=\"color: #00af00; text-decoration-color: #00af00\">64</span>, <span style=\"color: #00af00; text-decoration-color: #00af00\">64</span>)     │             <span style=\"color: #00af00; text-decoration-color: #00af00\">0</span> │\n",
       "├─────────────────────────────────┼────────────────────────┼───────────────┤\n",
       "│ flatten (<span style=\"color: #0087ff; text-decoration-color: #0087ff\">Flatten</span>)               │ (<span style=\"color: #00d7ff; text-decoration-color: #00d7ff\">None</span>, <span style=\"color: #00af00; text-decoration-color: #00af00\">262144</span>)         │             <span style=\"color: #00af00; text-decoration-color: #00af00\">0</span> │\n",
       "├─────────────────────────────────┼────────────────────────┼───────────────┤\n",
       "│ dense (<span style=\"color: #0087ff; text-decoration-color: #0087ff\">Dense</span>)                   │ (<span style=\"color: #00d7ff; text-decoration-color: #00d7ff\">None</span>, <span style=\"color: #00af00; text-decoration-color: #00af00\">512</span>)            │   <span style=\"color: #00af00; text-decoration-color: #00af00\">134,218,240</span> │\n",
       "├─────────────────────────────────┼────────────────────────┼───────────────┤\n",
       "│ dropout_2 (<span style=\"color: #0087ff; text-decoration-color: #0087ff\">Dropout</span>)             │ (<span style=\"color: #00d7ff; text-decoration-color: #00d7ff\">None</span>, <span style=\"color: #00af00; text-decoration-color: #00af00\">512</span>)            │             <span style=\"color: #00af00; text-decoration-color: #00af00\">0</span> │\n",
       "├─────────────────────────────────┼────────────────────────┼───────────────┤\n",
       "│ dense_1 (<span style=\"color: #0087ff; text-decoration-color: #0087ff\">Dense</span>)                 │ (<span style=\"color: #00d7ff; text-decoration-color: #00d7ff\">None</span>, <span style=\"color: #00af00; text-decoration-color: #00af00\">1</span>)              │           <span style=\"color: #00af00; text-decoration-color: #00af00\">513</span> │\n",
       "└─────────────────────────────────┴────────────────────────┴───────────────┘\n",
       "</pre>\n"
      ],
      "text/plain": [
       "┏━━━━━━━━━━━━━━━━━━━━━━━━━━━━━━━━━┳━━━━━━━━━━━━━━━━━━━━━━━━┳━━━━━━━━━━━━━━━┓\n",
       "┃\u001b[1m \u001b[0m\u001b[1mLayer (type)                   \u001b[0m\u001b[1m \u001b[0m┃\u001b[1m \u001b[0m\u001b[1mOutput Shape          \u001b[0m\u001b[1m \u001b[0m┃\u001b[1m \u001b[0m\u001b[1m      Param #\u001b[0m\u001b[1m \u001b[0m┃\n",
       "┡━━━━━━━━━━━━━━━━━━━━━━━━━━━━━━━━━╇━━━━━━━━━━━━━━━━━━━━━━━━╇━━━━━━━━━━━━━━━┩\n",
       "│ conv2d (\u001b[38;5;33mConv2D\u001b[0m)                 │ (\u001b[38;5;45mNone\u001b[0m, \u001b[38;5;34m256\u001b[0m, \u001b[38;5;34m256\u001b[0m, \u001b[38;5;34m32\u001b[0m)   │           \u001b[38;5;34m896\u001b[0m │\n",
       "├─────────────────────────────────┼────────────────────────┼───────────────┤\n",
       "│ conv2d_1 (\u001b[38;5;33mConv2D\u001b[0m)               │ (\u001b[38;5;45mNone\u001b[0m, \u001b[38;5;34m256\u001b[0m, \u001b[38;5;34m256\u001b[0m, \u001b[38;5;34m32\u001b[0m)   │         \u001b[38;5;34m9,248\u001b[0m │\n",
       "├─────────────────────────────────┼────────────────────────┼───────────────┤\n",
       "│ max_pooling2d (\u001b[38;5;33mMaxPooling2D\u001b[0m)    │ (\u001b[38;5;45mNone\u001b[0m, \u001b[38;5;34m128\u001b[0m, \u001b[38;5;34m128\u001b[0m, \u001b[38;5;34m32\u001b[0m)   │             \u001b[38;5;34m0\u001b[0m │\n",
       "├─────────────────────────────────┼────────────────────────┼───────────────┤\n",
       "│ dropout (\u001b[38;5;33mDropout\u001b[0m)               │ (\u001b[38;5;45mNone\u001b[0m, \u001b[38;5;34m128\u001b[0m, \u001b[38;5;34m128\u001b[0m, \u001b[38;5;34m32\u001b[0m)   │             \u001b[38;5;34m0\u001b[0m │\n",
       "├─────────────────────────────────┼────────────────────────┼───────────────┤\n",
       "│ conv2d_2 (\u001b[38;5;33mConv2D\u001b[0m)               │ (\u001b[38;5;45mNone\u001b[0m, \u001b[38;5;34m128\u001b[0m, \u001b[38;5;34m128\u001b[0m, \u001b[38;5;34m64\u001b[0m)   │        \u001b[38;5;34m18,496\u001b[0m │\n",
       "├─────────────────────────────────┼────────────────────────┼───────────────┤\n",
       "│ conv2d_3 (\u001b[38;5;33mConv2D\u001b[0m)               │ (\u001b[38;5;45mNone\u001b[0m, \u001b[38;5;34m128\u001b[0m, \u001b[38;5;34m128\u001b[0m, \u001b[38;5;34m64\u001b[0m)   │        \u001b[38;5;34m36,928\u001b[0m │\n",
       "├─────────────────────────────────┼────────────────────────┼───────────────┤\n",
       "│ max_pooling2d_1 (\u001b[38;5;33mMaxPooling2D\u001b[0m)  │ (\u001b[38;5;45mNone\u001b[0m, \u001b[38;5;34m64\u001b[0m, \u001b[38;5;34m64\u001b[0m, \u001b[38;5;34m64\u001b[0m)     │             \u001b[38;5;34m0\u001b[0m │\n",
       "├─────────────────────────────────┼────────────────────────┼───────────────┤\n",
       "│ dropout_1 (\u001b[38;5;33mDropout\u001b[0m)             │ (\u001b[38;5;45mNone\u001b[0m, \u001b[38;5;34m64\u001b[0m, \u001b[38;5;34m64\u001b[0m, \u001b[38;5;34m64\u001b[0m)     │             \u001b[38;5;34m0\u001b[0m │\n",
       "├─────────────────────────────────┼────────────────────────┼───────────────┤\n",
       "│ flatten (\u001b[38;5;33mFlatten\u001b[0m)               │ (\u001b[38;5;45mNone\u001b[0m, \u001b[38;5;34m262144\u001b[0m)         │             \u001b[38;5;34m0\u001b[0m │\n",
       "├─────────────────────────────────┼────────────────────────┼───────────────┤\n",
       "│ dense (\u001b[38;5;33mDense\u001b[0m)                   │ (\u001b[38;5;45mNone\u001b[0m, \u001b[38;5;34m512\u001b[0m)            │   \u001b[38;5;34m134,218,240\u001b[0m │\n",
       "├─────────────────────────────────┼────────────────────────┼───────────────┤\n",
       "│ dropout_2 (\u001b[38;5;33mDropout\u001b[0m)             │ (\u001b[38;5;45mNone\u001b[0m, \u001b[38;5;34m512\u001b[0m)            │             \u001b[38;5;34m0\u001b[0m │\n",
       "├─────────────────────────────────┼────────────────────────┼───────────────┤\n",
       "│ dense_1 (\u001b[38;5;33mDense\u001b[0m)                 │ (\u001b[38;5;45mNone\u001b[0m, \u001b[38;5;34m1\u001b[0m)              │           \u001b[38;5;34m513\u001b[0m │\n",
       "└─────────────────────────────────┴────────────────────────┴───────────────┘\n"
      ]
     },
     "metadata": {},
     "output_type": "display_data"
    },
    {
     "data": {
      "text/html": [
       "<pre style=\"white-space:pre;overflow-x:auto;line-height:normal;font-family:Menlo,'DejaVu Sans Mono',consolas,'Courier New',monospace\"><span style=\"font-weight: bold\"> Total params: </span><span style=\"color: #00af00; text-decoration-color: #00af00\">134,284,321</span> (512.25 MB)\n",
       "</pre>\n"
      ],
      "text/plain": [
       "\u001b[1m Total params: \u001b[0m\u001b[38;5;34m134,284,321\u001b[0m (512.25 MB)\n"
      ]
     },
     "metadata": {},
     "output_type": "display_data"
    },
    {
     "data": {
      "text/html": [
       "<pre style=\"white-space:pre;overflow-x:auto;line-height:normal;font-family:Menlo,'DejaVu Sans Mono',consolas,'Courier New',monospace\"><span style=\"font-weight: bold\"> Trainable params: </span><span style=\"color: #00af00; text-decoration-color: #00af00\">134,284,321</span> (512.25 MB)\n",
       "</pre>\n"
      ],
      "text/plain": [
       "\u001b[1m Trainable params: \u001b[0m\u001b[38;5;34m134,284,321\u001b[0m (512.25 MB)\n"
      ]
     },
     "metadata": {},
     "output_type": "display_data"
    },
    {
     "data": {
      "text/html": [
       "<pre style=\"white-space:pre;overflow-x:auto;line-height:normal;font-family:Menlo,'DejaVu Sans Mono',consolas,'Courier New',monospace\"><span style=\"font-weight: bold\"> Non-trainable params: </span><span style=\"color: #00af00; text-decoration-color: #00af00\">0</span> (0.00 B)\n",
       "</pre>\n"
      ],
      "text/plain": [
       "\u001b[1m Non-trainable params: \u001b[0m\u001b[38;5;34m0\u001b[0m (0.00 B)\n"
      ]
     },
     "metadata": {},
     "output_type": "display_data"
    },
    {
     "name": "stdout",
     "output_type": "stream",
     "text": [
      "Epoch 1/20\n"
     ]
    },
    {
     "name": "stderr",
     "output_type": "stream",
     "text": [
      "2024-10-08 11:43:46.856002: W external/local_tsl/tsl/framework/cpu_allocator_impl.cc:83] Allocation of 602406912 exceeds 10% of free system memory.\n",
      "2024-10-08 11:43:48.104805: W external/local_tsl/tsl/framework/cpu_allocator_impl.cc:83] Allocation of 536870912 exceeds 10% of free system memory.\n"
     ]
    },
    {
     "name": "stdout",
     "output_type": "stream",
     "text": [
      "\u001b[1m24/24\u001b[0m \u001b[32m━━━━━━━━━━━━━━━━━━━━\u001b[0m\u001b[37m\u001b[0m \u001b[1m124s\u001b[0m 5s/step - accuracy: 0.5950 - loss: 6.6437 - val_accuracy: 0.7135 - val_loss: 0.6304 - learning_rate: 0.0010\n",
      "Epoch 2/20\n",
      "\u001b[1m24/24\u001b[0m \u001b[32m━━━━━━━━━━━━━━━━━━━━\u001b[0m\u001b[37m\u001b[0m \u001b[1m139s\u001b[0m 5s/step - accuracy: 0.7632 - loss: 0.5759 - val_accuracy: 0.7135 - val_loss: 0.6159 - learning_rate: 0.0010\n",
      "Epoch 3/20\n",
      "\u001b[1m24/24\u001b[0m \u001b[32m━━━━━━━━━━━━━━━━━━━━\u001b[0m\u001b[37m\u001b[0m \u001b[1m121s\u001b[0m 5s/step - accuracy: 0.7880 - loss: 0.5560 - val_accuracy: 0.7135 - val_loss: 0.5965 - learning_rate: 0.0010\n",
      "Epoch 4/20\n",
      "\u001b[1m24/24\u001b[0m \u001b[32m━━━━━━━━━━━━━━━━━━━━\u001b[0m\u001b[37m\u001b[0m \u001b[1m136s\u001b[0m 5s/step - accuracy: 0.7634 - loss: 0.5503 - val_accuracy: 0.7135 - val_loss: 0.5928 - learning_rate: 0.0010\n",
      "Epoch 5/20\n",
      "\u001b[1m24/24\u001b[0m \u001b[32m━━━━━━━━━━━━━━━━━━━━\u001b[0m\u001b[37m\u001b[0m \u001b[1m148s\u001b[0m 5s/step - accuracy: 0.7604 - loss: 0.5585 - val_accuracy: 0.7135 - val_loss: 0.6016 - learning_rate: 0.0010\n",
      "Epoch 6/20\n",
      "\u001b[1m24/24\u001b[0m \u001b[32m━━━━━━━━━━━━━━━━━━━━\u001b[0m\u001b[37m\u001b[0m \u001b[1m0s\u001b[0m 5s/step - accuracy: 0.7754 - loss: 0.5281\n",
      "Epoch 6: ReduceLROnPlateau reducing learning rate to 0.0005000000237487257.\n",
      "\u001b[1m24/24\u001b[0m \u001b[32m━━━━━━━━━━━━━━━━━━━━\u001b[0m\u001b[37m\u001b[0m \u001b[1m136s\u001b[0m 5s/step - accuracy: 0.7751 - loss: 0.5285 - val_accuracy: 0.7135 - val_loss: 0.5823 - learning_rate: 0.0010\n",
      "Epoch 7/20\n",
      "\u001b[1m24/24\u001b[0m \u001b[32m━━━━━━━━━━━━━━━━━━━━\u001b[0m\u001b[37m\u001b[0m \u001b[1m109s\u001b[0m 5s/step - accuracy: 0.7840 - loss: 0.5236 - val_accuracy: 0.7135 - val_loss: 0.5721 - learning_rate: 5.0000e-04\n",
      "Epoch 8/20\n",
      "\u001b[1m24/24\u001b[0m \u001b[32m━━━━━━━━━━━━━━━━━━━━\u001b[0m\u001b[37m\u001b[0m \u001b[1m109s\u001b[0m 5s/step - accuracy: 0.7428 - loss: 0.5435 - val_accuracy: 0.7135 - val_loss: 0.5665 - learning_rate: 5.0000e-04\n",
      "Epoch 9/20\n",
      "\u001b[1m24/24\u001b[0m \u001b[32m━━━━━━━━━━━━━━━━━━━━\u001b[0m\u001b[37m\u001b[0m \u001b[1m110s\u001b[0m 5s/step - accuracy: 0.7738 - loss: 0.4909 - val_accuracy: 0.7135 - val_loss: 0.5282 - learning_rate: 5.0000e-04\n",
      "Epoch 10/20\n",
      "\u001b[1m24/24\u001b[0m \u001b[32m━━━━━━━━━━━━━━━━━━━━\u001b[0m\u001b[37m\u001b[0m \u001b[1m108s\u001b[0m 5s/step - accuracy: 0.7570 - loss: 0.4606 - val_accuracy: 0.7135 - val_loss: 0.3887 - learning_rate: 5.0000e-04\n",
      "Epoch 11/20\n",
      "\u001b[1m24/24\u001b[0m \u001b[32m━━━━━━━━━━━━━━━━━━━━\u001b[0m\u001b[37m\u001b[0m \u001b[1m143s\u001b[0m 5s/step - accuracy: 0.7973 - loss: 0.3551 - val_accuracy: 1.0000 - val_loss: 0.2023 - learning_rate: 5.0000e-04\n",
      "Epoch 12/20\n",
      "\u001b[1m24/24\u001b[0m \u001b[32m━━━━━━━━━━━━━━━━━━━━\u001b[0m\u001b[37m\u001b[0m \u001b[1m110s\u001b[0m 5s/step - accuracy: 0.9141 - loss: 0.2191 - val_accuracy: 1.0000 - val_loss: 0.0950 - learning_rate: 5.0000e-04\n",
      "Epoch 13/20\n",
      "\u001b[1m24/24\u001b[0m \u001b[32m━━━━━━━━━━━━━━━━━━━━\u001b[0m\u001b[37m\u001b[0m \u001b[1m145s\u001b[0m 5s/step - accuracy: 0.9581 - loss: 0.1302 - val_accuracy: 1.0000 - val_loss: 0.0776 - learning_rate: 5.0000e-04\n",
      "Epoch 14/20\n",
      "\u001b[1m24/24\u001b[0m \u001b[32m━━━━━━━━━━━━━━━━━━━━\u001b[0m\u001b[37m\u001b[0m \u001b[1m145s\u001b[0m 5s/step - accuracy: 0.9781 - loss: 0.0752 - val_accuracy: 1.0000 - val_loss: 0.0448 - learning_rate: 5.0000e-04\n",
      "Epoch 15/20\n",
      "\u001b[1m24/24\u001b[0m \u001b[32m━━━━━━━━━━━━━━━━━━━━\u001b[0m\u001b[37m\u001b[0m \u001b[1m114s\u001b[0m 5s/step - accuracy: 0.9908 - loss: 0.0437 - val_accuracy: 1.0000 - val_loss: 0.0135 - learning_rate: 5.0000e-04\n",
      "Epoch 16/20\n",
      "\u001b[1m24/24\u001b[0m \u001b[32m━━━━━━━━━━━━━━━━━━━━\u001b[0m\u001b[37m\u001b[0m \u001b[1m0s\u001b[0m 5s/step - accuracy: 0.9862 - loss: 0.0274\n",
      "Epoch 16: ReduceLROnPlateau reducing learning rate to 0.0002500000118743628.\n",
      "\u001b[1m24/24\u001b[0m \u001b[32m━━━━━━━━━━━━━━━━━━━━\u001b[0m\u001b[37m\u001b[0m \u001b[1m119s\u001b[0m 5s/step - accuracy: 0.9863 - loss: 0.0272 - val_accuracy: 1.0000 - val_loss: 0.0091 - learning_rate: 5.0000e-04\n",
      "Epoch 17/20\n",
      "\u001b[1m24/24\u001b[0m \u001b[32m━━━━━━━━━━━━━━━━━━━━\u001b[0m\u001b[37m\u001b[0m \u001b[1m120s\u001b[0m 5s/step - accuracy: 0.9846 - loss: 0.0246 - val_accuracy: 1.0000 - val_loss: 0.0052 - learning_rate: 2.5000e-04\n",
      "Epoch 18/20\n",
      "\u001b[1m24/24\u001b[0m \u001b[32m━━━━━━━━━━━━━━━━━━━━\u001b[0m\u001b[37m\u001b[0m \u001b[1m141s\u001b[0m 5s/step - accuracy: 0.9800 - loss: 0.0267 - val_accuracy: 1.0000 - val_loss: 0.0065 - learning_rate: 2.5000e-04\n",
      "Epoch 19/20\n",
      "\u001b[1m24/24\u001b[0m \u001b[32m━━━━━━━━━━━━━━━━━━━━\u001b[0m\u001b[37m\u001b[0m \u001b[1m142s\u001b[0m 5s/step - accuracy: 0.9890 - loss: 0.0148 - val_accuracy: 1.0000 - val_loss: 0.0030 - learning_rate: 2.5000e-04\n",
      "Epoch 20/20\n",
      "\u001b[1m24/24\u001b[0m \u001b[32m━━━━━━━━━━━━━━━━━━━━\u001b[0m\u001b[37m\u001b[0m \u001b[1m142s\u001b[0m 5s/step - accuracy: 0.9865 - loss: 0.0176 - val_accuracy: 1.0000 - val_loss: 0.0034 - learning_rate: 2.5000e-04\n",
      "Test loss：0.003329753177240491\n",
      "Test accuracy：1.0\n"
     ]
    }
   ],
   "source": [
    "from tensorflow.keras.callbacks import ReduceLROnPlateau\n",
    "\n",
    "def train(x_train, x_test, y_train, y_test):\n",
    "   # val_accuracyの改善が５エポック見られなかったら、学習率を0.5倍する\n",
    "   reduce_lr = ReduceLROnPlateau(\n",
    "      monitor=\"val_accuracy\",   # 監視対象は検証データの精度\n",
    "      factor=0.5,               # 学習率を減衰させる割合\n",
    "      patience=5,\n",
    "      verbose=1,\n",
    "      mode=\"max\",               # 最高値を監視する\n",
    "      min_lr=0.0001             # 学習率の下限\n",
    "   )\n",
    "   \n",
    "   model = make_convlayer(x_train)\n",
    "   model.summary()\n",
    "\n",
    "   callbacks_list = [reduce_lr]\n",
    "\n",
    "   batch_size = 32\n",
    "   epochs = 20\n",
    "\n",
    "   # 学習\n",
    "   history = model.fit(\n",
    "      x_train, y_train,\n",
    "      batch_size=batch_size,\n",
    "      epochs=epochs,\n",
    "      verbose=1,\n",
    "      validation_split=0.2,      # 検証データの作成\n",
    "      shuffle=True,              \n",
    "      callbacks=callbacks_list\n",
    "   )\n",
    "   # テストデータでモデルを評価\n",
    "   score = model.evaluate(x_test, y_test, verbose=0)\n",
    "   # テストデータの損失を出力\n",
    "   print(f\"Test loss：{score[0]}\")\n",
    "   # テストデータの精度を出力\n",
    "   print(f\"Test accuracy：{score[1]}\")\n",
    "\n",
    "   return model, history\n",
    "\n",
    "model, history = train(x_train, x_test, y_train, y_test)"
   ]
  },
  {
   "cell_type": "code",
   "execution_count": 6,
   "metadata": {},
   "outputs": [
    {
     "data": {
      "text/html": [
       "<pre style=\"white-space:pre;overflow-x:auto;line-height:normal;font-family:Menlo,'DejaVu Sans Mono',consolas,'Courier New',monospace\"></pre>\n"
      ],
      "text/plain": []
     },
     "metadata": {},
     "output_type": "display_data"
    }
   ],
   "source": [
    "import io\n",
    "\n",
    "save_dir = \"../output/Test_CNN_SrumpToBinaryClass/CNN1\"\n",
    "# ディレクトリが存在しない場合は作成\n",
    "os.makedirs(save_dir, exist_ok=True)\n",
    "\n",
    "# 出力をキャプチャするためのStringIO\n",
    "buffer = io.StringIO()\n",
    "\n",
    "# model.summary()の出力をbufferに書き込む\n",
    "model.summary(print_fn=lambda x: buffer.write(x + \"\\n\"))\n",
    "\n",
    "# キャプチャした内容をファイルに保存\n",
    "with open(os.path.join(save_dir, \"model_summary.txt\"), \"w\") as f:\n",
    "    f.write(buffer.getvalue())\n",
    "\n",
    "# StringIOのメモリを開放\n",
    "buffer.close()\n"
   ]
  },
  {
   "cell_type": "code",
   "execution_count": 7,
   "metadata": {},
   "outputs": [
    {
     "data": {
      "image/png": "[encoded data removed]",
      "text/plain": [
       "<Figure size 640x480 with 1 Axes>"
      ]
     },
     "metadata": {},
     "output_type": "display_data"
    },
    {
     "data": {
      "image/png": "[encoded data removed]",
      "text/plain": [
       "<Figure size 640x480 with 1 Axes>"
      ]
     },
     "metadata": {},
     "output_type": "display_data"
    }
   ],
   "source": [
    "# 訓練データの損失をプロット\n",
    "plt.plot(history.history[\"loss\"],\n",
    "         marker=\".\",\n",
    "         label=\"loss (Training)\")\n",
    "# 検証データの損失をプロット\n",
    "plt.plot(history.history[\"val_loss\"],\n",
    "         marker=\".\",\n",
    "         label=\"loss (Validation)\")\n",
    "plt.legend()        # 凡例を表示\n",
    "plt.grid()          # グリット表示\n",
    "plt.xlabel(\"epoch\") # x軸ラベル\n",
    "plt.ylabel(\"loss\")  # y軸ラベル\n",
    "# 損失のグラフを保存\n",
    "plt.savefig(os.path.join(save_dir, \"loss.jpg\"))\n",
    "plt.show()\n",
    "\n",
    "# 訓練データの精度をプロット\n",
    "plt.plot(history.history[\"accuracy\"],\n",
    "         marker=\".\",\n",
    "         label=\"accuracy (Training)\")\n",
    "# 検証データの精度をプロット\n",
    "plt.plot(history.history[\"val_accuracy\"],\n",
    "         marker=\".\",\n",
    "         label=\"accuracy (Validation)\")\n",
    "plt.legend()        # 凡例を表示\n",
    "plt.grid()          # グリット表示\n",
    "plt.xlabel(\"epoch\") # x軸ラベル\n",
    "plt.ylabel(\"accuracy\")  # y軸ラベル\n",
    "plt.savefig(os.path.join(save_dir, \"accuracy.jpg\"))\n",
    "plt.show()"
   ]
  },
  {
   "cell_type": "code",
   "execution_count": 10,
   "metadata": {},
   "outputs": [],
   "source": [
    "model_path = os.path.join(save_dir, \"model.json\")\n",
    "param_path = os.path.join(save_dir, \"weight.weights.h5\")\n",
    "\n",
    "# モデルをmodel.jsonとして保存\n",
    "with open(model_path, \"w\") as json_file:\n",
    "    json_file.write(model.to_json())                                # モデルをJSON形式に変換して保存\n",
    "# パラメーターをweight.h5として保存\n",
    "model.save_weights(param_path)     # HDF5形式で保存"
   ]
  },
  {
   "cell_type": "code",
   "execution_count": 41,
   "metadata": {},
   "outputs": [
    {
     "name": "stdout",
     "output_type": "stream",
     "text": [
      "\u001b[1m1/1\u001b[0m \u001b[32m━━━━━━━━━━━━━━━━━━━━\u001b[0m\u001b[37m\u001b[0m \u001b[1m0s\u001b[0m 262ms/step\n",
      "予測結果： False\n",
      "処理時間： 345.4305999994176\n",
      "予測時間： 335.30229999996664\n"
     ]
    }
   ],
   "source": [
    "from tensorflow.keras.models import model_from_json\n",
    "from tensorflow.keras.preprocessing import image\n",
    "import os\n",
    "from tensorflow.keras import optimizers\n",
    "import numpy as np\n",
    "import time\n",
    "\n",
    "save_dir = \"../output/Test_CNN_SrumpToBinaryClass/CNN1/17.5\"\n",
    "model_path = os.path.join(save_dir, \"model.json\")\n",
    "param_path = os.path.join(save_dir, \"weight.weights.h5\")\n",
    "# モデルの読み込み\n",
    "model_r = model_from_json(open(model_path, \"r\").read())\n",
    "# 重みの読み込み\n",
    "model_r.load_weights(param_path)\n",
    "# Sequentialオブジェクトのコンパイル\n",
    "model_r.compile(loss=\"binary_crossentropy\",\n",
    "                optimizer=optimizers.Adam(0.001), metrics=[\"accuracy\"])\n",
    "\n",
    "# 処理開始時刻取得\n",
    "start_time = time.perf_counter()\n",
    "# 予測したい画像パス\n",
    "image_path = \"../data/Movie/IOHD0018/frame_2439.jpg\"\n",
    "# 画像のロード\n",
    "img = image.load_img(image_path, target_size=(256, 256))\n",
    "# 配列に変換\n",
    "img_array = image.img_to_array(img)\n",
    "# 次元数の追加（256, 256, 3） -> (1, 256, 256, 3)\n",
    "img_array = np.expand_dims(img_array, axis=0)\n",
    "# 正規化\n",
    "img_array /= 255.0\n",
    "\n",
    "# 予測開始時刻取得\n",
    "prediction_start_time = time.perf_counter()\n",
    "prediction = model_r.predict(img_array)\n",
    "prediction_bool = prediction[0][0] > 0.5\n",
    "# 予測終了時刻取得\n",
    "prediction_end_time = time.perf_counter()\n",
    "\n",
    "# 処理終了時刻取得\n",
    "end_time = time.perf_counter()\n",
    "# 処理時間の計算\n",
    "process_time = (end_time - start_time) * 1000\n",
    "prediction_time = (prediction_end_time - prediction_start_time) * 1000\n",
    "\n",
    "print(\"予測結果：\", prediction_bool)\n",
    "print(\"処理時間：\", process_time)\n",
    "print(\"予測時間：\", prediction_time)"
   ]
  }
 ],
 "metadata": {
  "kernelspec": {
   "display_name": "Test3",
   "language": "python",
   "name": "python3"
  },
  "language_info": {
   "codemirror_mode": {
    "name": "ipython",
    "version": 3
   },
   "file_extension": ".py",
   "mimetype": "text/x-python",
   "name": "python",
   "nbconvert_exporter": "python",
   "pygments_lexer": "ipython3",
   "version": "3.12.4"
  }
 },
 "nbformat": 4,
 "nbformat_minor": 2
}
