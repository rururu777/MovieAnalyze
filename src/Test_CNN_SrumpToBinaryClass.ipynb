{
 "cells": [
  {
   "cell_type": "code",
   "execution_count": 1,
   "metadata": {},
   "outputs": [],
   "source": [
    "'''正解データ（スランプ値が20.0）の動画はIOHD0017とする'''\n",
    "import Function\n",
    "\n",
    "sec_ranges = [(48, 53), (30, 35), (45, 50), (40, 45)]\n",
    "Function.ExtractFramesFromMultipleVideos(sec_ranges)"
   ]
  },
  {
   "cell_type": "code",
   "execution_count": 21,
   "metadata": {},
   "outputs": [
    {
     "name": "stdout",
     "output_type": "stream",
     "text": [
      "(1198, 256, 256, 3)\n",
      "1198\n"
     ]
    }
   ],
   "source": [
    "import os\n",
    "import numpy as np\n",
    "from tensorflow.keras.preprocessing.image import load_img, img_to_array\n",
    "import matplotlib.pyplot as plt\n",
    "\n",
    "try:\n",
    "    # 画像の数字データを格納する配列\n",
    "    x_data = []\n",
    "    # 正解ラベル\n",
    "    y_data = []\n",
    "    # 入力データの形状\n",
    "    input_shape = [256, 256, 3]\n",
    "    # 学習データ画像が保存されているディレクトリパス\n",
    "    image_dir = '../data/Movie'\n",
    "\n",
    "    # \"IOHD\"で始まるディレクトリを探索\n",
    "    for sub_dir in sorted(os.listdir(image_dir)):\n",
    "        sub_dir_path = os.path.join(image_dir, sub_dir)\n",
    "        if os.path.isdir(sub_dir_path) and sub_dir.startswith(\"IOHD\"):\n",
    "            # 各サブディレクトリ内のjpgファイルを読み込む\n",
    "            for filename in sorted(os.listdir(sub_dir_path)):\n",
    "                if filename.endswith(\".jpg\"):\n",
    "                    img_path = os.path.join(sub_dir_path, filename)\n",
    "                    img = load_img(img_path, target_size=input_shape)\n",
    "                    img_array = img_to_array(img) / 255.0\n",
    "                    x_data.append(img_array)\n",
    "                    if sub_dir == \"IOHD0018\":\n",
    "                        y_data.append(1)\n",
    "                    else:\n",
    "                        y_data.append(0)\n",
    "\n",
    "\n",
    "    # 正規化\n",
    "    x_data = np.array(x_data, dtype=\"float32\")\n",
    "    y_data = np.array(y_data, dtype=\"float32\")\n",
    "    \n",
    "    # 確認\n",
    "    print(x_data.shape)\n",
    "    print(len(y_data))\n",
    "\n",
    "except Exception as e:\n",
    "    print(f\"エラー発生：{e}\")"
   ]
  },
  {
   "cell_type": "code",
   "execution_count": 22,
   "metadata": {},
   "outputs": [],
   "source": [
    "from sklearn.model_selection import train_test_split\n",
    "\n",
    "# 学習データとテストデータ（モデルの評価に使用）に分割\n",
    "x_train, x_test, y_train, y_test = train_test_split(x_data, y_data, test_size=0.2, random_state=42)"
   ]
  },
  {
   "cell_type": "code",
   "execution_count": 23,
   "metadata": {},
   "outputs": [],
   "source": [
    "from tensorflow.keras.models import Sequential\n",
    "from tensorflow.keras.layers import  Dense, Dropout, Flatten\n",
    "from tensorflow.keras.layers import Conv2D, MaxPooling2D\n",
    "from tensorflow.keras import optimizers\n",
    "\n",
    "def make_convlayer(x_train):\n",
    "    model = Sequential()\n",
    "\n",
    "    # 第1層：畳み込み層1\n",
    "    model.add(\n",
    "        Conv2D(\n",
    "            filters=32,\n",
    "            kernel_size=(3,3),\n",
    "            input_shape=x_train[0].shape,\n",
    "            padding=\"same\",\n",
    "            activation=\"relu\"\n",
    "        ))\n",
    "    # 第2層：畳み込み層2\n",
    "    model.add(\n",
    "        Conv2D(\n",
    "            filters=32,\n",
    "            kernel_size=(3,3),\n",
    "            padding=\"same\",\n",
    "            activation=\"relu\"\n",
    "        ))\n",
    "    # 第3層：プーリング層1\n",
    "    model.add(MaxPooling2D(pool_size=(2,2)))\n",
    "    # ドロップアウト1\n",
    "    model.add(Dropout(0.3))\n",
    "    # 第4層：畳み込み層3\n",
    "    model.add(\n",
    "        Conv2D(\n",
    "            filters=64,\n",
    "            kernel_size=(3,3),\n",
    "            padding=\"same\",\n",
    "            activation=\"relu\"\n",
    "        ))\n",
    "    # 第5層：畳み込み層4\n",
    "    model.add(\n",
    "        Conv2D(\n",
    "            filters=64,\n",
    "            kernel_size=(3,3),\n",
    "            padding=\"same\",\n",
    "            activation=\"relu\"\n",
    "        ))\n",
    "    # 第6層：プーリング層2\n",
    "    model.add(MaxPooling2D(pool_size=(2,2)))\n",
    "    # ドロップアウト2\n",
    "    model.add(Dropout(0.3))\n",
    "    # Flatten：4階テンソルから2階テンソルに変換\n",
    "    model.add(Flatten())\n",
    "    # 第7層：全結合層\n",
    "    model.add(Dense(128,\n",
    "                    activation=\"relu\"))\n",
    "    # ドロップアウト3\n",
    "    model.add(Dropout(0.5))\n",
    "    # 第8層：出力層\n",
    "    model.add(Dense(1,\n",
    "                    activation=\"sigmoid\"))\n",
    "    \n",
    "    # Sequentialオブジェクトのコンパイル\n",
    "    model.compile(\n",
    "        loss=\"binary_crossentropy\",\n",
    "        optimizer=optimizers.Adam(0.001),\n",
    "        metrics=[\"accuracy\"]\n",
    "    )\n",
    "\n",
    "    return model"
   ]
  },
  {
   "cell_type": "code",
   "execution_count": 24,
   "metadata": {},
   "outputs": [
    {
     "name": "stderr",
     "output_type": "stream",
     "text": [
      "/home/ruka/anaconda3/envs/Test3/lib/python3.12/site-packages/keras/src/layers/convolutional/base_conv.py:107: UserWarning: Do not pass an `input_shape`/`input_dim` argument to a layer. When using Sequential models, prefer using an `Input(shape)` object as the first layer in the model instead.\n",
      "  super().__init__(activity_regularizer=activity_regularizer, **kwargs)\n"
     ]
    },
    {
     "data": {
      "text/html": [
       "<pre style=\"white-space:pre;overflow-x:auto;line-height:normal;font-family:Menlo,'DejaVu Sans Mono',consolas,'Courier New',monospace\"><span style=\"font-weight: bold\">Model: \"sequential_2\"</span>\n",
       "</pre>\n"
      ],
      "text/plain": [
       "\u001b[1mModel: \"sequential_2\"\u001b[0m\n"
      ]
     },
     "metadata": {},
     "output_type": "display_data"
    },
    {
     "data": {
      "text/html": [
       "<pre style=\"white-space:pre;overflow-x:auto;line-height:normal;font-family:Menlo,'DejaVu Sans Mono',consolas,'Courier New',monospace\">┏━━━━━━━━━━━━━━━━━━━━━━━━━━━━━━━━━┳━━━━━━━━━━━━━━━━━━━━━━━━┳━━━━━━━━━━━━━━━┓\n",
       "┃<span style=\"font-weight: bold\"> Layer (type)                    </span>┃<span style=\"font-weight: bold\"> Output Shape           </span>┃<span style=\"font-weight: bold\">       Param # </span>┃\n",
       "┡━━━━━━━━━━━━━━━━━━━━━━━━━━━━━━━━━╇━━━━━━━━━━━━━━━━━━━━━━━━╇━━━━━━━━━━━━━━━┩\n",
       "│ conv2d_8 (<span style=\"color: #0087ff; text-decoration-color: #0087ff\">Conv2D</span>)               │ (<span style=\"color: #00d7ff; text-decoration-color: #00d7ff\">None</span>, <span style=\"color: #00af00; text-decoration-color: #00af00\">256</span>, <span style=\"color: #00af00; text-decoration-color: #00af00\">256</span>, <span style=\"color: #00af00; text-decoration-color: #00af00\">32</span>)   │           <span style=\"color: #00af00; text-decoration-color: #00af00\">896</span> │\n",
       "├─────────────────────────────────┼────────────────────────┼───────────────┤\n",
       "│ conv2d_9 (<span style=\"color: #0087ff; text-decoration-color: #0087ff\">Conv2D</span>)               │ (<span style=\"color: #00d7ff; text-decoration-color: #00d7ff\">None</span>, <span style=\"color: #00af00; text-decoration-color: #00af00\">256</span>, <span style=\"color: #00af00; text-decoration-color: #00af00\">256</span>, <span style=\"color: #00af00; text-decoration-color: #00af00\">32</span>)   │         <span style=\"color: #00af00; text-decoration-color: #00af00\">9,248</span> │\n",
       "├─────────────────────────────────┼────────────────────────┼───────────────┤\n",
       "│ max_pooling2d_4 (<span style=\"color: #0087ff; text-decoration-color: #0087ff\">MaxPooling2D</span>)  │ (<span style=\"color: #00d7ff; text-decoration-color: #00d7ff\">None</span>, <span style=\"color: #00af00; text-decoration-color: #00af00\">128</span>, <span style=\"color: #00af00; text-decoration-color: #00af00\">128</span>, <span style=\"color: #00af00; text-decoration-color: #00af00\">32</span>)   │             <span style=\"color: #00af00; text-decoration-color: #00af00\">0</span> │\n",
       "├─────────────────────────────────┼────────────────────────┼───────────────┤\n",
       "│ dropout_6 (<span style=\"color: #0087ff; text-decoration-color: #0087ff\">Dropout</span>)             │ (<span style=\"color: #00d7ff; text-decoration-color: #00d7ff\">None</span>, <span style=\"color: #00af00; text-decoration-color: #00af00\">128</span>, <span style=\"color: #00af00; text-decoration-color: #00af00\">128</span>, <span style=\"color: #00af00; text-decoration-color: #00af00\">32</span>)   │             <span style=\"color: #00af00; text-decoration-color: #00af00\">0</span> │\n",
       "├─────────────────────────────────┼────────────────────────┼───────────────┤\n",
       "│ conv2d_10 (<span style=\"color: #0087ff; text-decoration-color: #0087ff\">Conv2D</span>)              │ (<span style=\"color: #00d7ff; text-decoration-color: #00d7ff\">None</span>, <span style=\"color: #00af00; text-decoration-color: #00af00\">128</span>, <span style=\"color: #00af00; text-decoration-color: #00af00\">128</span>, <span style=\"color: #00af00; text-decoration-color: #00af00\">64</span>)   │        <span style=\"color: #00af00; text-decoration-color: #00af00\">18,496</span> │\n",
       "├─────────────────────────────────┼────────────────────────┼───────────────┤\n",
       "│ conv2d_11 (<span style=\"color: #0087ff; text-decoration-color: #0087ff\">Conv2D</span>)              │ (<span style=\"color: #00d7ff; text-decoration-color: #00d7ff\">None</span>, <span style=\"color: #00af00; text-decoration-color: #00af00\">128</span>, <span style=\"color: #00af00; text-decoration-color: #00af00\">128</span>, <span style=\"color: #00af00; text-decoration-color: #00af00\">64</span>)   │        <span style=\"color: #00af00; text-decoration-color: #00af00\">36,928</span> │\n",
       "├─────────────────────────────────┼────────────────────────┼───────────────┤\n",
       "│ max_pooling2d_5 (<span style=\"color: #0087ff; text-decoration-color: #0087ff\">MaxPooling2D</span>)  │ (<span style=\"color: #00d7ff; text-decoration-color: #00d7ff\">None</span>, <span style=\"color: #00af00; text-decoration-color: #00af00\">64</span>, <span style=\"color: #00af00; text-decoration-color: #00af00\">64</span>, <span style=\"color: #00af00; text-decoration-color: #00af00\">64</span>)     │             <span style=\"color: #00af00; text-decoration-color: #00af00\">0</span> │\n",
       "├─────────────────────────────────┼────────────────────────┼───────────────┤\n",
       "│ dropout_7 (<span style=\"color: #0087ff; text-decoration-color: #0087ff\">Dropout</span>)             │ (<span style=\"color: #00d7ff; text-decoration-color: #00d7ff\">None</span>, <span style=\"color: #00af00; text-decoration-color: #00af00\">64</span>, <span style=\"color: #00af00; text-decoration-color: #00af00\">64</span>, <span style=\"color: #00af00; text-decoration-color: #00af00\">64</span>)     │             <span style=\"color: #00af00; text-decoration-color: #00af00\">0</span> │\n",
       "├─────────────────────────────────┼────────────────────────┼───────────────┤\n",
       "│ flatten_2 (<span style=\"color: #0087ff; text-decoration-color: #0087ff\">Flatten</span>)             │ (<span style=\"color: #00d7ff; text-decoration-color: #00d7ff\">None</span>, <span style=\"color: #00af00; text-decoration-color: #00af00\">262144</span>)         │             <span style=\"color: #00af00; text-decoration-color: #00af00\">0</span> │\n",
       "├─────────────────────────────────┼────────────────────────┼───────────────┤\n",
       "│ dense_4 (<span style=\"color: #0087ff; text-decoration-color: #0087ff\">Dense</span>)                 │ (<span style=\"color: #00d7ff; text-decoration-color: #00d7ff\">None</span>, <span style=\"color: #00af00; text-decoration-color: #00af00\">128</span>)            │    <span style=\"color: #00af00; text-decoration-color: #00af00\">33,554,560</span> │\n",
       "├─────────────────────────────────┼────────────────────────┼───────────────┤\n",
       "│ dropout_8 (<span style=\"color: #0087ff; text-decoration-color: #0087ff\">Dropout</span>)             │ (<span style=\"color: #00d7ff; text-decoration-color: #00d7ff\">None</span>, <span style=\"color: #00af00; text-decoration-color: #00af00\">128</span>)            │             <span style=\"color: #00af00; text-decoration-color: #00af00\">0</span> │\n",
       "├─────────────────────────────────┼────────────────────────┼───────────────┤\n",
       "│ dense_5 (<span style=\"color: #0087ff; text-decoration-color: #0087ff\">Dense</span>)                 │ (<span style=\"color: #00d7ff; text-decoration-color: #00d7ff\">None</span>, <span style=\"color: #00af00; text-decoration-color: #00af00\">1</span>)              │           <span style=\"color: #00af00; text-decoration-color: #00af00\">129</span> │\n",
       "└─────────────────────────────────┴────────────────────────┴───────────────┘\n",
       "</pre>\n"
      ],
      "text/plain": [
       "┏━━━━━━━━━━━━━━━━━━━━━━━━━━━━━━━━━┳━━━━━━━━━━━━━━━━━━━━━━━━┳━━━━━━━━━━━━━━━┓\n",
       "┃\u001b[1m \u001b[0m\u001b[1mLayer (type)                   \u001b[0m\u001b[1m \u001b[0m┃\u001b[1m \u001b[0m\u001b[1mOutput Shape          \u001b[0m\u001b[1m \u001b[0m┃\u001b[1m \u001b[0m\u001b[1m      Param #\u001b[0m\u001b[1m \u001b[0m┃\n",
       "┡━━━━━━━━━━━━━━━━━━━━━━━━━━━━━━━━━╇━━━━━━━━━━━━━━━━━━━━━━━━╇━━━━━━━━━━━━━━━┩\n",
       "│ conv2d_8 (\u001b[38;5;33mConv2D\u001b[0m)               │ (\u001b[38;5;45mNone\u001b[0m, \u001b[38;5;34m256\u001b[0m, \u001b[38;5;34m256\u001b[0m, \u001b[38;5;34m32\u001b[0m)   │           \u001b[38;5;34m896\u001b[0m │\n",
       "├─────────────────────────────────┼────────────────────────┼───────────────┤\n",
       "│ conv2d_9 (\u001b[38;5;33mConv2D\u001b[0m)               │ (\u001b[38;5;45mNone\u001b[0m, \u001b[38;5;34m256\u001b[0m, \u001b[38;5;34m256\u001b[0m, \u001b[38;5;34m32\u001b[0m)   │         \u001b[38;5;34m9,248\u001b[0m │\n",
       "├─────────────────────────────────┼────────────────────────┼───────────────┤\n",
       "│ max_pooling2d_4 (\u001b[38;5;33mMaxPooling2D\u001b[0m)  │ (\u001b[38;5;45mNone\u001b[0m, \u001b[38;5;34m128\u001b[0m, \u001b[38;5;34m128\u001b[0m, \u001b[38;5;34m32\u001b[0m)   │             \u001b[38;5;34m0\u001b[0m │\n",
       "├─────────────────────────────────┼────────────────────────┼───────────────┤\n",
       "│ dropout_6 (\u001b[38;5;33mDropout\u001b[0m)             │ (\u001b[38;5;45mNone\u001b[0m, \u001b[38;5;34m128\u001b[0m, \u001b[38;5;34m128\u001b[0m, \u001b[38;5;34m32\u001b[0m)   │             \u001b[38;5;34m0\u001b[0m │\n",
       "├─────────────────────────────────┼────────────────────────┼───────────────┤\n",
       "│ conv2d_10 (\u001b[38;5;33mConv2D\u001b[0m)              │ (\u001b[38;5;45mNone\u001b[0m, \u001b[38;5;34m128\u001b[0m, \u001b[38;5;34m128\u001b[0m, \u001b[38;5;34m64\u001b[0m)   │        \u001b[38;5;34m18,496\u001b[0m │\n",
       "├─────────────────────────────────┼────────────────────────┼───────────────┤\n",
       "│ conv2d_11 (\u001b[38;5;33mConv2D\u001b[0m)              │ (\u001b[38;5;45mNone\u001b[0m, \u001b[38;5;34m128\u001b[0m, \u001b[38;5;34m128\u001b[0m, \u001b[38;5;34m64\u001b[0m)   │        \u001b[38;5;34m36,928\u001b[0m │\n",
       "├─────────────────────────────────┼────────────────────────┼───────────────┤\n",
       "│ max_pooling2d_5 (\u001b[38;5;33mMaxPooling2D\u001b[0m)  │ (\u001b[38;5;45mNone\u001b[0m, \u001b[38;5;34m64\u001b[0m, \u001b[38;5;34m64\u001b[0m, \u001b[38;5;34m64\u001b[0m)     │             \u001b[38;5;34m0\u001b[0m │\n",
       "├─────────────────────────────────┼────────────────────────┼───────────────┤\n",
       "│ dropout_7 (\u001b[38;5;33mDropout\u001b[0m)             │ (\u001b[38;5;45mNone\u001b[0m, \u001b[38;5;34m64\u001b[0m, \u001b[38;5;34m64\u001b[0m, \u001b[38;5;34m64\u001b[0m)     │             \u001b[38;5;34m0\u001b[0m │\n",
       "├─────────────────────────────────┼────────────────────────┼───────────────┤\n",
       "│ flatten_2 (\u001b[38;5;33mFlatten\u001b[0m)             │ (\u001b[38;5;45mNone\u001b[0m, \u001b[38;5;34m262144\u001b[0m)         │             \u001b[38;5;34m0\u001b[0m │\n",
       "├─────────────────────────────────┼────────────────────────┼───────────────┤\n",
       "│ dense_4 (\u001b[38;5;33mDense\u001b[0m)                 │ (\u001b[38;5;45mNone\u001b[0m, \u001b[38;5;34m128\u001b[0m)            │    \u001b[38;5;34m33,554,560\u001b[0m │\n",
       "├─────────────────────────────────┼────────────────────────┼───────────────┤\n",
       "│ dropout_8 (\u001b[38;5;33mDropout\u001b[0m)             │ (\u001b[38;5;45mNone\u001b[0m, \u001b[38;5;34m128\u001b[0m)            │             \u001b[38;5;34m0\u001b[0m │\n",
       "├─────────────────────────────────┼────────────────────────┼───────────────┤\n",
       "│ dense_5 (\u001b[38;5;33mDense\u001b[0m)                 │ (\u001b[38;5;45mNone\u001b[0m, \u001b[38;5;34m1\u001b[0m)              │           \u001b[38;5;34m129\u001b[0m │\n",
       "└─────────────────────────────────┴────────────────────────┴───────────────┘\n"
      ]
     },
     "metadata": {},
     "output_type": "display_data"
    },
    {
     "data": {
      "text/html": [
       "<pre style=\"white-space:pre;overflow-x:auto;line-height:normal;font-family:Menlo,'DejaVu Sans Mono',consolas,'Courier New',monospace\"><span style=\"font-weight: bold\"> Total params: </span><span style=\"color: #00af00; text-decoration-color: #00af00\">33,620,257</span> (128.25 MB)\n",
       "</pre>\n"
      ],
      "text/plain": [
       "\u001b[1m Total params: \u001b[0m\u001b[38;5;34m33,620,257\u001b[0m (128.25 MB)\n"
      ]
     },
     "metadata": {},
     "output_type": "display_data"
    },
    {
     "data": {
      "text/html": [
       "<pre style=\"white-space:pre;overflow-x:auto;line-height:normal;font-family:Menlo,'DejaVu Sans Mono',consolas,'Courier New',monospace\"><span style=\"font-weight: bold\"> Trainable params: </span><span style=\"color: #00af00; text-decoration-color: #00af00\">33,620,257</span> (128.25 MB)\n",
       "</pre>\n"
      ],
      "text/plain": [
       "\u001b[1m Trainable params: \u001b[0m\u001b[38;5;34m33,620,257\u001b[0m (128.25 MB)\n"
      ]
     },
     "metadata": {},
     "output_type": "display_data"
    },
    {
     "data": {
      "text/html": [
       "<pre style=\"white-space:pre;overflow-x:auto;line-height:normal;font-family:Menlo,'DejaVu Sans Mono',consolas,'Courier New',monospace\"><span style=\"font-weight: bold\"> Non-trainable params: </span><span style=\"color: #00af00; text-decoration-color: #00af00\">0</span> (0.00 B)\n",
       "</pre>\n"
      ],
      "text/plain": [
       "\u001b[1m Non-trainable params: \u001b[0m\u001b[38;5;34m0\u001b[0m (0.00 B)\n"
      ]
     },
     "metadata": {},
     "output_type": "display_data"
    },
    {
     "name": "stdout",
     "output_type": "stream",
     "text": [
      "Epoch 1/15\n"
     ]
    },
    {
     "name": "stderr",
     "output_type": "stream",
     "text": [
      "2024-10-09 12:47:32.735499: W external/local_tsl/tsl/framework/cpu_allocator_impl.cc:83] Allocation of 602406912 exceeds 10% of free system memory.\n"
     ]
    },
    {
     "name": "stdout",
     "output_type": "stream",
     "text": [
      "\u001b[1m24/24\u001b[0m \u001b[32m━━━━━━━━━━━━━━━━━━━━\u001b[0m\u001b[37m\u001b[0m \u001b[1m99s\u001b[0m 4s/step - accuracy: 0.6849 - loss: 4.5114 - val_accuracy: 0.7812 - val_loss: 0.5598 - learning_rate: 0.0010\n",
      "Epoch 2/15\n",
      "\u001b[1m24/24\u001b[0m \u001b[32m━━━━━━━━━━━━━━━━━━━━\u001b[0m\u001b[37m\u001b[0m \u001b[1m108s\u001b[0m 5s/step - accuracy: 0.7466 - loss: 0.5757 - val_accuracy: 0.7812 - val_loss: 0.5366 - learning_rate: 0.0010\n",
      "Epoch 3/15\n",
      "\u001b[1m24/24\u001b[0m \u001b[32m━━━━━━━━━━━━━━━━━━━━\u001b[0m\u001b[37m\u001b[0m \u001b[1m98s\u001b[0m 4s/step - accuracy: 0.7341 - loss: 0.5825 - val_accuracy: 0.7812 - val_loss: 0.5532 - learning_rate: 0.0010\n",
      "Epoch 4/15\n",
      "\u001b[1m24/24\u001b[0m \u001b[32m━━━━━━━━━━━━━━━━━━━━\u001b[0m\u001b[37m\u001b[0m \u001b[1m95s\u001b[0m 4s/step - accuracy: 0.7216 - loss: 0.5998 - val_accuracy: 0.7812 - val_loss: 0.5164 - learning_rate: 0.0010\n",
      "Epoch 5/15\n",
      "\u001b[1m24/24\u001b[0m \u001b[32m━━━━━━━━━━━━━━━━━━━━\u001b[0m\u001b[37m\u001b[0m \u001b[1m95s\u001b[0m 4s/step - accuracy: 0.7351 - loss: 0.5933 - val_accuracy: 0.7812 - val_loss: 0.5171 - learning_rate: 0.0010\n",
      "Epoch 6/15\n",
      "\u001b[1m24/24\u001b[0m \u001b[32m━━━━━━━━━━━━━━━━━━━━\u001b[0m\u001b[37m\u001b[0m \u001b[1m0s\u001b[0m 4s/step - accuracy: 0.7272 - loss: 0.6193\n",
      "Epoch 6: ReduceLROnPlateau reducing learning rate to 0.0005000000237487257.\n",
      "\u001b[1m24/24\u001b[0m \u001b[32m━━━━━━━━━━━━━━━━━━━━\u001b[0m\u001b[37m\u001b[0m \u001b[1m95s\u001b[0m 4s/step - accuracy: 0.7277 - loss: 0.6180 - val_accuracy: 0.7812 - val_loss: 0.5445 - learning_rate: 0.0010\n",
      "Epoch 7/15\n",
      "\u001b[1m24/24\u001b[0m \u001b[32m━━━━━━━━━━━━━━━━━━━━\u001b[0m\u001b[37m\u001b[0m \u001b[1m143s\u001b[0m 4s/step - accuracy: 0.7175 - loss: 0.5909 - val_accuracy: 0.7812 - val_loss: 0.5087 - learning_rate: 5.0000e-04\n",
      "Epoch 8/15\n",
      "\u001b[1m24/24\u001b[0m \u001b[32m━━━━━━━━━━━━━━━━━━━━\u001b[0m\u001b[37m\u001b[0m \u001b[1m96s\u001b[0m 4s/step - accuracy: 0.7463 - loss: 0.5486 - val_accuracy: 0.7812 - val_loss: 0.5288 - learning_rate: 5.0000e-04\n",
      "Epoch 9/15\n",
      "\u001b[1m24/24\u001b[0m \u001b[32m━━━━━━━━━━━━━━━━━━━━\u001b[0m\u001b[37m\u001b[0m \u001b[1m140s\u001b[0m 4s/step - accuracy: 0.7365 - loss: 0.5590 - val_accuracy: 0.7812 - val_loss: 0.4595 - learning_rate: 5.0000e-04\n",
      "Epoch 10/15\n",
      "\u001b[1m24/24\u001b[0m \u001b[32m━━━━━━━━━━━━━━━━━━━━\u001b[0m\u001b[37m\u001b[0m \u001b[1m135s\u001b[0m 4s/step - accuracy: 0.7496 - loss: 0.4858 - val_accuracy: 0.7812 - val_loss: 0.3762 - learning_rate: 5.0000e-04\n",
      "Epoch 11/15\n",
      "\u001b[1m24/24\u001b[0m \u001b[32m━━━━━━━━━━━━━━━━━━━━\u001b[0m\u001b[37m\u001b[0m \u001b[1m0s\u001b[0m 3s/step - accuracy: 0.7359 - loss: 0.3947\n",
      "Epoch 11: ReduceLROnPlateau reducing learning rate to 0.0002500000118743628.\n",
      "\u001b[1m24/24\u001b[0m \u001b[32m━━━━━━━━━━━━━━━━━━━━\u001b[0m\u001b[37m\u001b[0m \u001b[1m142s\u001b[0m 4s/step - accuracy: 0.7362 - loss: 0.3935 - val_accuracy: 0.7812 - val_loss: 0.2244 - learning_rate: 5.0000e-04\n",
      "Epoch 12/15\n",
      "\u001b[1m24/24\u001b[0m \u001b[32m━━━━━━━━━━━━━━━━━━━━\u001b[0m\u001b[37m\u001b[0m \u001b[1m141s\u001b[0m 4s/step - accuracy: 0.7220 - loss: 0.2879 - val_accuracy: 0.7812 - val_loss: 0.1920 - learning_rate: 2.5000e-04\n",
      "Epoch 13/15\n",
      "\u001b[1m24/24\u001b[0m \u001b[32m━━━━━━━━━━━━━━━━━━━━\u001b[0m\u001b[37m\u001b[0m \u001b[1m87s\u001b[0m 4s/step - accuracy: 0.7445 - loss: 0.2404 - val_accuracy: 0.7812 - val_loss: 0.1661 - learning_rate: 2.5000e-04\n",
      "Epoch 14/15\n",
      "\u001b[1m24/24\u001b[0m \u001b[32m━━━━━━━━━━━━━━━━━━━━\u001b[0m\u001b[37m\u001b[0m \u001b[1m142s\u001b[0m 4s/step - accuracy: 0.7496 - loss: 0.2168 - val_accuracy: 0.7812 - val_loss: 0.1631 - learning_rate: 2.5000e-04\n",
      "Epoch 15/15\n",
      "\u001b[1m24/24\u001b[0m \u001b[32m━━━━━━━━━━━━━━━━━━━━\u001b[0m\u001b[37m\u001b[0m \u001b[1m87s\u001b[0m 4s/step - accuracy: 0.7186 - loss: 0.2351 - val_accuracy: 0.7812 - val_loss: 0.1620 - learning_rate: 2.5000e-04\n",
      "Test loss：0.18189483880996704\n",
      "Test accuracy：0.7541666626930237\n"
     ]
    }
   ],
   "source": [
    "from tensorflow.keras.callbacks import ReduceLROnPlateau\n",
    "\n",
    "def train(x_train, x_test, y_train, y_test):\n",
    "   # val_accuracyの改善が５エポック見られなかったら、学習率を0.5倍する\n",
    "   reduce_lr = ReduceLROnPlateau(\n",
    "      monitor=\"val_accuracy\",   # 監視対象は検証データの精度\n",
    "      factor=0.5,               # 学習率を減衰させる割合\n",
    "      patience=5,\n",
    "      verbose=1,\n",
    "      mode=\"max\",               # 最高値を監視する\n",
    "      min_lr=0.0001             # 学習率の下限\n",
    "   )\n",
    "   \n",
    "   model = make_convlayer(x_train)\n",
    "   model.summary()\n",
    "\n",
    "   callbacks_list = [reduce_lr]\n",
    "\n",
    "   batch_size = 32\n",
    "   epochs = 15\n",
    "\n",
    "   # 学習\n",
    "   history = model.fit(\n",
    "      x_train, y_train,\n",
    "      batch_size=batch_size,\n",
    "      epochs=epochs,\n",
    "      verbose=1,\n",
    "      validation_split=0.2,      # 検証データの作成\n",
    "      shuffle=True,              \n",
    "      callbacks=callbacks_list\n",
    "   )\n",
    "   # テストデータでモデルを評価\n",
    "   score = model.evaluate(x_test, y_test, verbose=0)\n",
    "   # テストデータの損失を出力\n",
    "   print(f\"Test loss：{score[0]}\")\n",
    "   # テストデータの精度を出力\n",
    "   print(f\"Test accuracy：{score[1]}\")\n",
    "\n",
    "   return model, history\n",
    "\n",
    "model, history = train(x_train, x_test, y_train, y_test)"
   ]
  },
  {
   "cell_type": "code",
   "execution_count": 25,
   "metadata": {},
   "outputs": [
    {
     "data": {
      "text/html": [
       "<pre style=\"white-space:pre;overflow-x:auto;line-height:normal;font-family:Menlo,'DejaVu Sans Mono',consolas,'Courier New',monospace\"></pre>\n"
      ],
      "text/plain": []
     },
     "metadata": {},
     "output_type": "display_data"
    }
   ],
   "source": [
    "import io\n",
    "\n",
    "save_dir = \"../output/Test_CNN_SrumpToBinaryClass/CNN1/19\"\n",
    "# ディレクトリが存在しない場合は作成\n",
    "os.makedirs(save_dir, exist_ok=True)\n",
    "\n",
    "# 出力をキャプチャするためのStringIO\n",
    "buffer = io.StringIO()\n",
    "\n",
    "# model.summary()の出力をbufferに書き込む\n",
    "model.summary(print_fn=lambda x: buffer.write(x + \"\\n\"))\n",
    "\n",
    "# キャプチャした内容をファイルに保存\n",
    "with open(os.path.join(save_dir, \"model_summary.txt\"), \"w\") as f:\n",
    "    f.write(buffer.getvalue())\n",
    "\n",
    "# StringIOのメモリを開放\n",
    "buffer.close()\n"
   ]
  },
  {
   "cell_type": "code",
   "execution_count": 26,
   "metadata": {},
   "outputs": [
    {
     "data": {
      "image/png": "[encoded data removed]",
      "text/plain": [
       "<Figure size 640x480 with 1 Axes>"
      ]
     },
     "metadata": {},
     "output_type": "display_data"
    },
    {
     "data": {
      "image/png": "[encoded data removed]",
      "text/plain": [
       "<Figure size 640x480 with 1 Axes>"
      ]
     },
     "metadata": {},
     "output_type": "display_data"
    }
   ],
   "source": [
    "# 訓練データの損失をプロット\n",
    "plt.plot(history.history[\"loss\"],\n",
    "         marker=\".\",\n",
    "         label=\"loss (Training)\")\n",
    "# 検証データの損失をプロット\n",
    "plt.plot(history.history[\"val_loss\"],\n",
    "         marker=\".\",\n",
    "         label=\"loss (Validation)\")\n",
    "plt.legend()        # 凡例を表示\n",
    "plt.grid()          # グリット表示\n",
    "plt.xlabel(\"epoch\") # x軸ラベル\n",
    "plt.ylabel(\"loss\")  # y軸ラベル損失関数はモデルが出力した確率分布と実際のラベルとの「距離」を計算するもので、分類タスクでは交差エントロピー損失などがよく使われます。\n",
    "# 損失のグラフを保存\n",
    "plt.savefig(os.path.join(save_dir, \"loss.jpg\"))\n",
    "plt.show()\n",
    "\n",
    "# 訓練データの精度をプロット\n",
    "plt.plot(history.history[\"accuracy\"],\n",
    "         marker=\".\",\n",
    "         label=\"accuracy (Training)\")\n",
    "# 検証データの精度をプロット\n",
    "plt.plot(history.history[\"val_accuracy\"],\n",
    "         marker=\".\",\n",
    "         label=\"accuracy (Validation)\")\n",
    "plt.legend()        # 凡例を表示\n",
    "plt.grid()          # グリット表示\n",
    "plt.xlabel(\"epoch\") # x軸ラベル\n",
    "plt.ylabel(\"accuracy\")  # y軸ラベル\n",
    "plt.savefig(os.path.join(save_dir, \"accuracy.jpg\"))\n",
    "plt.show()"
   ]
  },
  {
   "cell_type": "code",
   "execution_count": 27,
   "metadata": {},
   "outputs": [],
   "source": [
    "model_path = os.path.join(save_dir, \"model.json\")\n",
    "param_path = os.path.join(save_dir, \"weight.weights.h5\")\n",
    "\n",
    "# モデルをmodel.jsonとして保存\n",
    "with open(model_path, \"w\") as json_file:\n",
    "    json_file.write(model.to_json())                                # モデルをJSON形式に変換して保存\n",
    "# パラメーターをweight.h5として保存\n",
    "model.save_weights(param_path)     # HDF5形式で保存"
   ]
  },
  {
   "cell_type": "code",
   "execution_count": 28,
   "metadata": {},
   "outputs": [
    {
     "name": "stdout",
     "output_type": "stream",
     "text": [
      "\u001b[1m1/1\u001b[0m \u001b[32m━━━━━━━━━━━━━━━━━━━━\u001b[0m\u001b[37m\u001b[0m \u001b[1m0s\u001b[0m 88ms/step\n",
      "予測結果： False\n"
     ]
    }
   ],
   "source": [
    "from tensorflow.keras.models import model_from_json\n",
    "from tensorflow.keras.preprocessing import image\n",
    "\n",
    "# モデルの読み込み\n",
    "model_r = model_from_json(open(model_path, \"r\").read())\n",
    "# 重みの読み込み\n",
    "model_r.load_weights(param_path)\n",
    "# Sequentialオブジェクトのコンパイル\n",
    "model_r.compile(loss=\"binary_crossentropy\",\n",
    "                optimizer=optimizers.Adam(0.001), metrics=[\"accuracy\"])\n",
    "\n",
    "# 予測したい画像パス\n",
    "image_path = \"../data/Movie/IOHD0017/frame_2806.jpg\"\n",
    "# 画像のロード\n",
    "img = image.load_img(image_path, target_size=(256, 256))\n",
    "# 配列に変換\n",
    "img_array = image.img_to_array(img)\n",
    "# 次元数の追加（256, 256, 3） -> (1, 256, 256, 3)\n",
    "img_array = np.expand_dims(img_array, axis=0)\n",
    "# 正規化\n",
    "img_array /= 255.0\n",
    "\n",
    "prediction = model_r.predict(img_array)\n",
    "prediction_bool = prediction[0][0] > 0.5\n",
    "print(\"予測結果：\", prediction_bool)"
   ]
  }
 ],
 "metadata": {
  "kernelspec": {
   "display_name": "Test3",
   "language": "python",
   "name": "python3"
  },
  "language_info": {
   "codemirror_mode": {
    "name": "ipython",
    "version": 3
   },
   "file_extension": ".py",
   "mimetype": "text/x-python",
   "name": "python",
   "nbconvert_exporter": "python",
   "pygments_lexer": "ipython3",
   "version": "3.12.2"
  }
 },
 "nbformat": 4,
 "nbformat_minor": 2
}
