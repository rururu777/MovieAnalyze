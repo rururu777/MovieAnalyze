{
 "cells": [
  {
   "cell_type": "code",
   "execution_count": 2,
   "metadata": {},
   "outputs": [
    {
     "name": "stdout",
     "output_type": "stream",
     "text": [
      "切り抜きした画像が '../data/Movie/CutFrame_Test_Frame.ipynb' に保存されました。\n"
     ]
    }
   ],
   "source": [
    "import cv2\n",
    "import os\n",
    "\n",
    "# 動画ファイルのパス\n",
    "movie_path = '../data/Movie/IOHD0015.MP4'\n",
    "# 出力ディレクトリ\n",
    "output_dir = '../data/Movie/CutFrame_Test_Frame.ipynb'\n",
    "\n",
    "# 出力ディレクトリを作成\n",
    "os.makedirs(output_dir, exist_ok=True)\n",
    "\n",
    "# 動画を読み込み\n",
    "cap = cv2.VideoCapture(movie_path)\n",
    "\n",
    "# 開始時間と終了時間を設定（ミリ秒）\n",
    "start_time = 55 \n",
    "end_time = 65 \n",
    "\n",
    "# 動画のフレームレートを取得\n",
    "fps = cap.get(cv2.CAP_PROP_FPS)\n",
    "\n",
    "# 開始フレームと終了フレームの計算\n",
    "start_frame = int(fps * start_time)\n",
    "end_frame = int(fps * end_time)\n",
    "\n",
    "# 開始フレームにシーク\n",
    "cap.set(cv2.CAP_PROP_POS_FRAMES, start_frame)\n",
    "\n",
    "# フレームを切り抜いて保存\n",
    "for frame_count in range(start_frame, end_frame):\n",
    "    ret, frame = cap.read()\n",
    "    if not ret:\n",
    "        break\n",
    "\n",
    "    # 画像ファイル名を作成\n",
    "    image_filename = os.path.join(output_dir, f'frame_{frame_count}.jpg')\n",
    "    # フレームを画像として保存\n",
    "    cv2.imwrite(image_filename, frame)\n",
    "    \n",
    "# リソースの解放\n",
    "cap.release()\n",
    "cv2.destroyAllWindows()\n",
    "\n",
    "print(f\"切り抜きした画像が '{output_dir}' に保存されました。\")\n"
   ]
  }
 ],
 "metadata": {
  "kernelspec": {
   "display_name": "Test1",
   "language": "python",
   "name": "python3"
  },
  "language_info": {
   "codemirror_mode": {
    "name": "ipython",
    "version": 3
   },
   "file_extension": ".py",
   "mimetype": "text/x-python",
   "name": "python",
   "nbconvert_exporter": "python",
   "pygments_lexer": "ipython3",
   "version": "3.12.4"
  }
 },
 "nbformat": 4,
 "nbformat_minor": 2
}
